{
 "cells": [
  {
   "cell_type": "code",
   "execution_count": 28,
   "metadata": {},
   "outputs": [
    {
     "name": "stdout",
     "output_type": "stream",
     "text": [
      "Requirement already satisfied: langchain in /Users/juan.abello/.pyenv/versions/3.8.16/lib/python3.8/site-packages (0.0.309)\n",
      "Requirement already satisfied: openai in /Users/juan.abello/.pyenv/versions/3.8.16/lib/python3.8/site-packages (0.28.1)\n",
      "Requirement already satisfied: jsonpatch<2.0,>=1.33 in /Users/juan.abello/.pyenv/versions/3.8.16/lib/python3.8/site-packages (from langchain) (1.33)\n",
      "Requirement already satisfied: PyYAML>=5.3 in /Users/juan.abello/.pyenv/versions/3.8.16/lib/python3.8/site-packages (from langchain) (6.0.1)\n",
      "Requirement already satisfied: langsmith<0.1.0,>=0.0.40 in /Users/juan.abello/.pyenv/versions/3.8.16/lib/python3.8/site-packages (from langchain) (0.0.43)\n",
      "Requirement already satisfied: dataclasses-json<0.7,>=0.5.7 in /Users/juan.abello/.pyenv/versions/3.8.16/lib/python3.8/site-packages (from langchain) (0.6.1)\n",
      "Requirement already satisfied: aiohttp<4.0.0,>=3.8.3 in /Users/juan.abello/.pyenv/versions/3.8.16/lib/python3.8/site-packages (from langchain) (3.8.5)\n",
      "Requirement already satisfied: anyio<4.0 in /Users/juan.abello/.pyenv/versions/3.8.16/lib/python3.8/site-packages (from langchain) (3.7.1)\n",
      "Requirement already satisfied: async-timeout<5.0.0,>=4.0.0 in /Users/juan.abello/.pyenv/versions/3.8.16/lib/python3.8/site-packages (from langchain) (4.0.3)\n",
      "Requirement already satisfied: pydantic<3,>=1 in /Users/juan.abello/.pyenv/versions/3.8.16/lib/python3.8/site-packages (from langchain) (2.3.0)\n",
      "Requirement already satisfied: SQLAlchemy<3,>=1.4 in /Users/juan.abello/.pyenv/versions/3.8.16/lib/python3.8/site-packages (from langchain) (2.0.21)\n",
      "Requirement already satisfied: numpy<2,>=1 in /Users/juan.abello/.pyenv/versions/3.8.16/lib/python3.8/site-packages (from langchain) (1.24.4)\n",
      "Requirement already satisfied: tenacity<9.0.0,>=8.1.0 in /Users/juan.abello/.pyenv/versions/3.8.16/lib/python3.8/site-packages (from langchain) (8.2.3)\n",
      "Requirement already satisfied: requests<3,>=2 in /Users/juan.abello/.pyenv/versions/3.8.16/lib/python3.8/site-packages (from langchain) (2.31.0)\n",
      "Requirement already satisfied: tqdm in /Users/juan.abello/.pyenv/versions/3.8.16/lib/python3.8/site-packages (from openai) (4.66.1)\n",
      "Requirement already satisfied: aiosignal>=1.1.2 in /Users/juan.abello/.pyenv/versions/3.8.16/lib/python3.8/site-packages (from aiohttp<4.0.0,>=3.8.3->langchain) (1.3.1)\n",
      "Requirement already satisfied: frozenlist>=1.1.1 in /Users/juan.abello/.pyenv/versions/3.8.16/lib/python3.8/site-packages (from aiohttp<4.0.0,>=3.8.3->langchain) (1.4.0)\n",
      "Requirement already satisfied: yarl<2.0,>=1.0 in /Users/juan.abello/.pyenv/versions/3.8.16/lib/python3.8/site-packages (from aiohttp<4.0.0,>=3.8.3->langchain) (1.9.2)\n",
      "Requirement already satisfied: charset-normalizer<4.0,>=2.0 in /Users/juan.abello/.pyenv/versions/3.8.16/lib/python3.8/site-packages (from aiohttp<4.0.0,>=3.8.3->langchain) (3.2.0)\n",
      "Requirement already satisfied: attrs>=17.3.0 in /Users/juan.abello/.pyenv/versions/3.8.16/lib/python3.8/site-packages (from aiohttp<4.0.0,>=3.8.3->langchain) (23.1.0)\n",
      "Requirement already satisfied: multidict<7.0,>=4.5 in /Users/juan.abello/.pyenv/versions/3.8.16/lib/python3.8/site-packages (from aiohttp<4.0.0,>=3.8.3->langchain) (6.0.4)\n",
      "Requirement already satisfied: sniffio>=1.1 in /Users/juan.abello/.pyenv/versions/3.8.16/lib/python3.8/site-packages (from anyio<4.0->langchain) (1.3.0)\n",
      "Requirement already satisfied: exceptiongroup in /Users/juan.abello/.pyenv/versions/3.8.16/lib/python3.8/site-packages (from anyio<4.0->langchain) (1.1.3)\n",
      "Requirement already satisfied: idna>=2.8 in /Users/juan.abello/.pyenv/versions/3.8.16/lib/python3.8/site-packages (from anyio<4.0->langchain) (3.4)\n",
      "Requirement already satisfied: marshmallow<4.0.0,>=3.18.0 in /Users/juan.abello/.pyenv/versions/3.8.16/lib/python3.8/site-packages (from dataclasses-json<0.7,>=0.5.7->langchain) (3.20.1)\n",
      "Requirement already satisfied: typing-inspect<1,>=0.4.0 in /Users/juan.abello/.pyenv/versions/3.8.16/lib/python3.8/site-packages (from dataclasses-json<0.7,>=0.5.7->langchain) (0.9.0)\n",
      "Requirement already satisfied: jsonpointer>=1.9 in /Users/juan.abello/.pyenv/versions/3.8.16/lib/python3.8/site-packages (from jsonpatch<2.0,>=1.33->langchain) (2.4)\n",
      "Requirement already satisfied: annotated-types>=0.4.0 in /Users/juan.abello/.pyenv/versions/3.8.16/lib/python3.8/site-packages (from pydantic<3,>=1->langchain) (0.5.0)\n",
      "Requirement already satisfied: typing-extensions>=4.6.1 in /Users/juan.abello/.pyenv/versions/3.8.16/lib/python3.8/site-packages (from pydantic<3,>=1->langchain) (4.8.0)\n",
      "Requirement already satisfied: pydantic-core==2.6.3 in /Users/juan.abello/.pyenv/versions/3.8.16/lib/python3.8/site-packages (from pydantic<3,>=1->langchain) (2.6.3)\n",
      "Requirement already satisfied: certifi>=2017.4.17 in /Users/juan.abello/.pyenv/versions/3.8.16/lib/python3.8/site-packages (from requests<3,>=2->langchain) (2023.7.22)\n",
      "Requirement already satisfied: urllib3<3,>=1.21.1 in /Users/juan.abello/.pyenv/versions/3.8.16/lib/python3.8/site-packages (from requests<3,>=2->langchain) (2.0.5)\n",
      "Requirement already satisfied: packaging>=17.0 in /Users/juan.abello/.pyenv/versions/3.8.16/lib/python3.8/site-packages (from marshmallow<4.0.0,>=3.18.0->dataclasses-json<0.7,>=0.5.7->langchain) (23.1)\n",
      "Requirement already satisfied: mypy-extensions>=0.3.0 in /Users/juan.abello/.pyenv/versions/3.8.16/lib/python3.8/site-packages (from typing-inspect<1,>=0.4.0->dataclasses-json<0.7,>=0.5.7->langchain) (1.0.0)\n",
      "\u001b[33mWARNING: You are using pip version 22.0.4; however, version 23.2.1 is available.\n",
      "You should consider upgrading via the '/Users/juan.abello/.pyenv/versions/3.8.16/bin/python -m pip install --upgrade pip' command.\u001b[0m\u001b[33m\n",
      "\u001b[0mNote: you may need to restart the kernel to use updated packages.\n"
     ]
    }
   ],
   "source": [
    "pip install langchain openai"
   ]
  },
  {
   "cell_type": "code",
   "execution_count": 3,
   "metadata": {},
   "outputs": [],
   "source": [
    "import os\n",
    "from getpass import getpass\n",
    "\n",
    "try:\n",
    "    from google.colab import files\n",
    "    IS_COLAB = True\n",
    "except ModuleNotFoundError:\n",
    "    IS_COLAB = False"
   ]
  },
  {
   "cell_type": "code",
   "execution_count": 4,
   "metadata": {},
   "outputs": [],
   "source": [
    "OPENAI_API_KEY = getpass(\"Please enter your OpenAI API Key: \")"
   ]
  },
  {
   "cell_type": "code",
   "execution_count": 5,
   "metadata": {},
   "outputs": [],
   "source": [
    "from langchain.llms import OpenAI\n",
    "\n",
    "llm = OpenAI(openai_api_key=OPENAI_API_KEY)"
   ]
  },
  {
   "cell_type": "code",
   "execution_count": 6,
   "metadata": {},
   "outputs": [
    {
     "name": "stdout",
     "output_type": "stream",
     "text": [
      "\n",
      "\n",
      "DataStax's Vector DB\n",
      "A powerful beast of a thing\n",
      "It can store and process data\n",
      "With lightning speed and a mighty wing\n",
      "\n",
      "It's great for streaming and analytics\n",
      "We can use it to predict\n",
      "DataStax's Vector DB\n",
      "Making data a surefire hit\n",
      "\n",
      "It's designed to meet the high demands\n",
      "Of the most complex of tasks\n",
      "DataStax's Vector DB\n",
      "Always ready to ask\n",
      "\n",
      "It's reliable and secure\n",
      "Making sure no data is lost\n",
      "DataStax's Vector DB\n",
      "Will never be a cost\n",
      "\n",
      "It's a data processing powerhouse\n",
      "Ready to tackle the job\n",
      "DataStax's Vector DB\n",
      "Unstoppable and sure to rob\n"
     ]
    }
   ],
   "source": [
    "# Generate text from the prompt \"Write a poem about DataStax's Vector DBt\"\n",
    "prediction = llm(\"Write a poem about DataStax's Vector DB\")\n",
    "\n",
    "# Print the prediction\n",
    "print(prediction)"
   ]
  },
  {
   "cell_type": "code",
   "execution_count": 7,
   "metadata": {},
   "outputs": [],
   "source": [
    "llm_result = llm.generate([\"Tell me a joke about other Vector DBs\", \"Tell me a poem about DataStax's Vector DB\"]*2)"
   ]
  },
  {
   "cell_type": "code",
   "execution_count": 8,
   "metadata": {},
   "outputs": [
    {
     "data": {
      "text/plain": [
       "{'token_usage': {'total_tokens': 394,\n",
       "  'prompt_tokens': 40,\n",
       "  'completion_tokens': 354},\n",
       " 'model_name': 'text-davinci-003'}"
      ]
     },
     "execution_count": 8,
     "metadata": {},
     "output_type": "execute_result"
    }
   ],
   "source": [
    "llm_result.llm_output"
   ]
  },
  {
   "cell_type": "code",
   "execution_count": 12,
   "metadata": {},
   "outputs": [
    {
     "name": "stdout",
     "output_type": "stream",
     "text": [
      "[Generation(text='\\n\\nQ: What did the Oracle Vector say to the Postgres Vector?\\nA: \"Let\\'s Vector together!\"', generation_info={'finish_reason': 'stop', 'logprobs': None})]\n",
      "[Generation(text=\"\\n\\nDataStax's Vector DB, \\nA powerful tool to help us see,\\nAs we spin up clusters and memories,\\nIt gives us massive scalability.\\n\\nIt provides us with robust security,\\nTo keep our data safe and sound,\\nAnd with its high performance speed,\\nIt's sure to turn heads around.\\n\\nFrom distributed queries to analytics,\\nThis tool is a valued asset,\\nFor businesses looking to scale up,\\nIt's a great choice to invest.\\n\\nSo if you're looking for a powerful DB,\\nThat's secure and configurable,\\nDataStax's Vector DB is here to save the day,\\nFor all your data needs, it's reliable.\", generation_info={'finish_reason': 'stop', 'logprobs': None})]\n",
      "[Generation(text=\"\\n\\nQ: What did the Vector DB say when it got stuck in a tight corner?\\n\\nA: I'm vectoring out of here!\", generation_info={'finish_reason': 'stop', 'logprobs': None})]\n",
      "[Generation(text=\"\\n\\nDataStax's Vector DB, what a sight to see\\nA database that's fast, and always free\\nIt's trusted by many, its popularity's grown\\nA database to rely on, you'll never be alone\\n\\nIt's easy to use, a pleasure to maintain\\nIt's always up to date, no need to explain\\nIt's reliable and secure, and highly scalable too\\nAn all-around solution, there's nothing it can't do\\n\\nDataStax's Vector DB, it's the one to choose\\nFor all your needs, it's got you covered, it's no use\\nTo look elsewhere, it's the best around\\nIt's the perfect database, no need to look around\", generation_info={'finish_reason': 'stop', 'logprobs': None})]\n"
     ]
    }
   ],
   "source": [
    "for result in llm_result.generations:\n",
    "    print(result)"
   ]
  },
  {
   "cell_type": "code",
   "execution_count": 29,
   "metadata": {},
   "outputs": [
    {
     "ename": "ImportError",
     "evalue": "cannot import name 'LLMchain' from 'langchain' (/Users/juan.abello/.pyenv/versions/3.8.16/lib/python3.8/site-packages/langchain/__init__.py)",
     "output_type": "error",
     "traceback": [
      "\u001b[0;31m---------------------------------------------------------------------------\u001b[0m",
      "\u001b[0;31mImportError\u001b[0m                               Traceback (most recent call last)",
      "\u001b[1;32m/Users/juan.abello/Documents/Datastax/astradb-examples/langchain-modules/notebooks/langchain_modelio.ipynb Cell 9\u001b[0m line \u001b[0;36m1\n\u001b[0;32m----> <a href='vscode-notebook-cell:/Users/juan.abello/Documents/Datastax/astradb-examples/langchain-modules/notebooks/langchain_modelio.ipynb#X20sZmlsZQ%3D%3D?line=0'>1</a>\u001b[0m \u001b[39mfrom\u001b[39;00m \u001b[39mlangchain\u001b[39;00m \u001b[39mimport\u001b[39;00m LLMchain\n",
      "\u001b[0;31mImportError\u001b[0m: cannot import name 'LLMchain' from 'langchain' (/Users/juan.abello/.pyenv/versions/3.8.16/lib/python3.8/site-packages/langchain/__init__.py)"
     ]
    }
   ],
   "source": [
    "from langchain import LLMchain"
   ]
  },
  {
   "cell_type": "code",
   "execution_count": 26,
   "metadata": {},
   "outputs": [
    {
     "ename": "NameError",
     "evalue": "name 'LLMChain' is not defined",
     "output_type": "error",
     "traceback": [
      "\u001b[0;31m---------------------------------------------------------------------------\u001b[0m",
      "\u001b[0;31mNameError\u001b[0m                                 Traceback (most recent call last)",
      "\u001b[1;32m/Users/juan.abello/Documents/Datastax/astradb-examples/langchain-modules/notebooks/langchain_modelio.ipynb Cell 10\u001b[0m line \u001b[0;36m1\n\u001b[0;32m----> <a href='vscode-notebook-cell:/Users/juan.abello/Documents/Datastax/astradb-examples/langchain-modules/notebooks/langchain_modelio.ipynb#X16sZmlsZQ%3D%3D?line=0'>1</a>\u001b[0m llm_chain \u001b[39m=\u001b[39m LLMChain(\n\u001b[1;32m      <a href='vscode-notebook-cell:/Users/juan.abello/Documents/Datastax/astradb-examples/langchain-modules/notebooks/langchain_modelio.ipynb#X16sZmlsZQ%3D%3D?line=1'>2</a>\u001b[0m     llm\u001b[39m=\u001b[39mllm,\n\u001b[1;32m      <a href='vscode-notebook-cell:/Users/juan.abello/Documents/Datastax/astradb-examples/langchain-modules/notebooks/langchain_modelio.ipynb#X16sZmlsZQ%3D%3D?line=2'>3</a>\u001b[0m     prompt\u001b[39m=\u001b[39mPromptTemplate\u001b[39m.\u001b[39mfrom_template(prompt_template)\n\u001b[1;32m      <a href='vscode-notebook-cell:/Users/juan.abello/Documents/Datastax/astradb-examples/langchain-modules/notebooks/langchain_modelio.ipynb#X16sZmlsZQ%3D%3D?line=3'>4</a>\u001b[0m )\n\u001b[1;32m      <a href='vscode-notebook-cell:/Users/juan.abello/Documents/Datastax/astradb-examples/langchain-modules/notebooks/langchain_modelio.ipynb#X16sZmlsZQ%3D%3D?line=4'>5</a>\u001b[0m llm_chain(\u001b[39m\"\u001b[39m\u001b[39mcolorful socks\u001b[39m\u001b[39m\"\u001b[39m)\n",
      "\u001b[0;31mNameError\u001b[0m: name 'LLMChain' is not defined"
     ]
    }
   ],
   "source": [
    "llm_chain = LLMChain(\n",
    "    llm=llm,\n",
    "    prompt=PromptTemplate.from_template(prompt_template)\n",
    ")\n",
    "llm_chain(\"colorful socks\")"
   ]
  }
 ],
 "metadata": {
  "kernelspec": {
   "display_name": "Python 3",
   "language": "python",
   "name": "python3"
  },
  "language_info": {
   "codemirror_mode": {
    "name": "ipython",
    "version": 3
   },
   "file_extension": ".py",
   "mimetype": "text/x-python",
   "name": "python",
   "nbconvert_exporter": "python",
   "pygments_lexer": "ipython3",
   "version": "3.8.16"
  },
  "orig_nbformat": 4
 },
 "nbformat": 4,
 "nbformat_minor": 2
}
