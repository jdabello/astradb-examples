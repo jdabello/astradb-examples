{
  "nbformat": 4,
  "nbformat_minor": 0,
  "metadata": {
    "colab": {
      "provenance": []
    },
    "kernelspec": {
      "name": "python3",
      "display_name": "Python 3"
    },
    "language_info": {
      "name": "python"
    }
  },
  "cells": [
    {
      "cell_type": "code",
      "execution_count": 2,
      "metadata": {
        "colab": {
          "base_uri": "https://localhost:8080/"
        },
        "id": "Sx7lgDnpHb_5",
        "outputId": "3684d44e-5889-4b3d-f73c-4ae9514ce43e"
      },
      "outputs": [
        {
          "output_type": "stream",
          "name": "stdout",
          "text": [
            "Collecting astrapy\n",
            "  Using cached astrapy-0.7.1-py3-none-any.whl (27 kB)\n",
            "Collecting cassio<0.2.0,>=0.1.3 (from astrapy)\n",
            "  Using cached cassio-0.1.4-py3-none-any.whl (40 kB)\n",
            "Collecting httpx[http2]<0.26.0,>=0.25.1 (from astrapy)\n",
            "  Using cached httpx-0.25.2-py3-none-any.whl (74 kB)\n",
            "Requirement already satisfied: toml<0.11.0,>=0.10.2 in /usr/local/lib/python3.10/dist-packages (from astrapy) (0.10.2)\n",
            "Collecting cassandra-driver>=3.28.0 (from cassio<0.2.0,>=0.1.3->astrapy)\n",
            "  Downloading cassandra_driver-3.29.0-cp310-cp310-manylinux_2_17_x86_64.manylinux2014_x86_64.whl (18.8 MB)\n",
            "\u001b[2K     \u001b[90m━━━━━━━━━━━━━━━━━━━━━━━━━━━━━━━━━━━━━━━━\u001b[0m \u001b[32m18.8/18.8 MB\u001b[0m \u001b[31m32.0 MB/s\u001b[0m eta \u001b[36m0:00:00\u001b[0m\n",
            "\u001b[?25hRequirement already satisfied: numpy>=1.0 in /usr/local/lib/python3.10/dist-packages (from cassio<0.2.0,>=0.1.3->astrapy) (1.23.5)\n",
            "Requirement already satisfied: requests>=2 in /usr/local/lib/python3.10/dist-packages (from cassio<0.2.0,>=0.1.3->astrapy) (2.31.0)\n",
            "Requirement already satisfied: anyio in /usr/local/lib/python3.10/dist-packages (from httpx[http2]<0.26.0,>=0.25.1->astrapy) (3.7.1)\n",
            "Requirement already satisfied: certifi in /usr/local/lib/python3.10/dist-packages (from httpx[http2]<0.26.0,>=0.25.1->astrapy) (2023.11.17)\n",
            "Collecting httpcore==1.* (from httpx[http2]<0.26.0,>=0.25.1->astrapy)\n",
            "  Downloading httpcore-1.0.2-py3-none-any.whl (76 kB)\n",
            "\u001b[2K     \u001b[90m━━━━━━━━━━━━━━━━━━━━━━━━━━━━━━━━━━━━━━━━\u001b[0m \u001b[32m76.9/76.9 kB\u001b[0m \u001b[31m9.5 MB/s\u001b[0m eta \u001b[36m0:00:00\u001b[0m\n",
            "\u001b[?25hRequirement already satisfied: idna in /usr/local/lib/python3.10/dist-packages (from httpx[http2]<0.26.0,>=0.25.1->astrapy) (3.6)\n",
            "Requirement already satisfied: sniffio in /usr/local/lib/python3.10/dist-packages (from httpx[http2]<0.26.0,>=0.25.1->astrapy) (1.3.0)\n",
            "Collecting h2<5,>=3 (from httpx[http2]<0.26.0,>=0.25.1->astrapy)\n",
            "  Downloading h2-4.1.0-py3-none-any.whl (57 kB)\n",
            "\u001b[2K     \u001b[90m━━━━━━━━━━━━━━━━━━━━━━━━━━━━━━━━━━━━━━━━\u001b[0m \u001b[32m57.5/57.5 kB\u001b[0m \u001b[31m7.7 MB/s\u001b[0m eta \u001b[36m0:00:00\u001b[0m\n",
            "\u001b[?25hCollecting h11<0.15,>=0.13 (from httpcore==1.*->httpx[http2]<0.26.0,>=0.25.1->astrapy)\n",
            "  Downloading h11-0.14.0-py3-none-any.whl (58 kB)\n",
            "\u001b[2K     \u001b[90m━━━━━━━━━━━━━━━━━━━━━━━━━━━━━━━━━━━━━━━━\u001b[0m \u001b[32m58.3/58.3 kB\u001b[0m \u001b[31m8.1 MB/s\u001b[0m eta \u001b[36m0:00:00\u001b[0m\n",
            "\u001b[?25hCollecting geomet<0.3,>=0.1 (from cassandra-driver>=3.28.0->cassio<0.2.0,>=0.1.3->astrapy)\n",
            "  Downloading geomet-0.2.1.post1-py3-none-any.whl (18 kB)\n",
            "Collecting hyperframe<7,>=6.0 (from h2<5,>=3->httpx[http2]<0.26.0,>=0.25.1->astrapy)\n",
            "  Downloading hyperframe-6.0.1-py3-none-any.whl (12 kB)\n",
            "Collecting hpack<5,>=4.0 (from h2<5,>=3->httpx[http2]<0.26.0,>=0.25.1->astrapy)\n",
            "  Downloading hpack-4.0.0-py3-none-any.whl (32 kB)\n",
            "Requirement already satisfied: charset-normalizer<4,>=2 in /usr/local/lib/python3.10/dist-packages (from requests>=2->cassio<0.2.0,>=0.1.3->astrapy) (3.3.2)\n",
            "Requirement already satisfied: urllib3<3,>=1.21.1 in /usr/local/lib/python3.10/dist-packages (from requests>=2->cassio<0.2.0,>=0.1.3->astrapy) (2.0.7)\n",
            "Requirement already satisfied: exceptiongroup in /usr/local/lib/python3.10/dist-packages (from anyio->httpx[http2]<0.26.0,>=0.25.1->astrapy) (1.2.0)\n",
            "Requirement already satisfied: click in /usr/local/lib/python3.10/dist-packages (from geomet<0.3,>=0.1->cassandra-driver>=3.28.0->cassio<0.2.0,>=0.1.3->astrapy) (8.1.7)\n",
            "Requirement already satisfied: six in /usr/local/lib/python3.10/dist-packages (from geomet<0.3,>=0.1->cassandra-driver>=3.28.0->cassio<0.2.0,>=0.1.3->astrapy) (1.16.0)\n",
            "Installing collected packages: hyperframe, hpack, h11, geomet, httpcore, h2, cassandra-driver, httpx, cassio, astrapy\n",
            "Successfully installed astrapy-0.7.1 cassandra-driver-3.29.0 cassio-0.1.4 geomet-0.2.1.post1 h11-0.14.0 h2-4.1.0 hpack-4.0.0 httpcore-1.0.2 httpx-0.25.2 hyperframe-6.0.1\n"
          ]
        }
      ],
      "source": [
        "!pip install astrapy"
      ]
    },
    {
      "cell_type": "code",
      "source": [
        "from google.colab import userdata\n",
        "from astrapy.db import AstraDB, AstraDBCollection\n",
        "\n",
        "# Grab the Astra token and api endpoint from the environment\n",
        "token = userdata.get('ASTRA_DB_APPLICATION_TOKEN')\n",
        "api_endpoint = userdata.get('ASTRA_DB_API_ENDPOINT')\n",
        "\n",
        "# Initialize our vector db\n",
        "astra_db = AstraDB(token=token, api_endpoint=api_endpoint)"
      ],
      "metadata": {
        "id": "zAT7cYi2HtXC"
      },
      "execution_count": 6,
      "outputs": []
    },
    {
      "cell_type": "code",
      "source": [
        "collection = astra_db.create_collection(\n",
        "    collection_name=\"collection_test\", dimension=5\n",
        ")"
      ],
      "metadata": {
        "id": "XMSOOkE6JcZN"
      },
      "execution_count": 7,
      "outputs": []
    },
    {
      "cell_type": "code",
      "source": [
        "collection.insert_one(\n",
        "    {\n",
        "        \"_id\": \"5\",\n",
        "        \"name\": \"Coded Cleats Copy\",\n",
        "        \"description\": \"ChatGPT integrated sneakers that talk to you\",\n",
        "        \"price\": 1500,\n",
        "        \"$vector\": [0.25, 0.25, 0.25, 0.25, 0.25],\n",
        "    }\n",
        ")"
      ],
      "metadata": {
        "colab": {
          "base_uri": "https://localhost:8080/"
        },
        "id": "HosjfSj3KIkP",
        "outputId": "6119470c-58b1-4492-a26d-5aef158bdb89"
      },
      "execution_count": 8,
      "outputs": [
        {
          "output_type": "execute_result",
          "data": {
            "text/plain": [
              "{'status': {'insertedIds': ['5']}}"
            ]
          },
          "metadata": {},
          "execution_count": 8
        }
      ]
    },
    {
      "cell_type": "code",
      "source": [
        "filter={\n",
        "        \"price\": {\n",
        "          \"$lt\": 1500\n",
        "        }\n",
        "      }\n",
        "collection.find_one(filter)"
      ],
      "metadata": {
        "colab": {
          "base_uri": "https://localhost:8080/"
        },
        "id": "aIhwfLxgKQK0",
        "outputId": "5ce669dd-d1e7-4a32-be30-4ad958f65578"
      },
      "execution_count": 14,
      "outputs": [
        {
          "output_type": "execute_result",
          "data": {
            "text/plain": [
              "{'data': {'document': None}}"
            ]
          },
          "metadata": {},
          "execution_count": 14
        }
      ]
    },
    {
      "cell_type": "code",
      "source": [
        "filter={\n",
        "        \"price\": {\n",
        "          \"$lt\": 1501\n",
        "        }\n",
        "      }\n",
        "collection.find_one(filter)"
      ],
      "metadata": {
        "colab": {
          "base_uri": "https://localhost:8080/"
        },
        "id": "bRMZ7JIpLVxV",
        "outputId": "74d516f9-4d7b-41c7-e291-4dfe2e6aa344"
      },
      "execution_count": 15,
      "outputs": [
        {
          "output_type": "execute_result",
          "data": {
            "text/plain": [
              "{'data': {'document': {'_id': '5',\n",
              "   'name': 'Coded Cleats Copy',\n",
              "   'description': 'ChatGPT integrated sneakers that talk to you',\n",
              "   'price': 1500,\n",
              "   '$vector': [0.25, 0.25, 0.25, 0.25, 0.25]}}}"
            ]
          },
          "metadata": {},
          "execution_count": 15
        }
      ]
    },
    {
      "cell_type": "code",
      "source": [
        "filter={\n",
        "        \"price\": {\n",
        "          \"$lte\": 1501\n",
        "        }\n",
        "      }\n",
        "collection.find_one(filter)"
      ],
      "metadata": {
        "colab": {
          "base_uri": "https://localhost:8080/"
        },
        "id": "hbXUQmVcQuYi",
        "outputId": "1d8d6009-1c3d-43ac-fd4c-2e7d525b2349"
      },
      "execution_count": 16,
      "outputs": [
        {
          "output_type": "execute_result",
          "data": {
            "text/plain": [
              "{'data': {'document': {'_id': '5',\n",
              "   'name': 'Coded Cleats Copy',\n",
              "   'description': 'ChatGPT integrated sneakers that talk to you',\n",
              "   'price': 1500,\n",
              "   '$vector': [0.25, 0.25, 0.25, 0.25, 0.25]}}}"
            ]
          },
          "metadata": {},
          "execution_count": 16
        }
      ]
    }
  ]
}